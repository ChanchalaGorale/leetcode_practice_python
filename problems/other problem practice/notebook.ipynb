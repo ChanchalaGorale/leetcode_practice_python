{
  "cells": [
    {
      "cell_type": "code",
      "source": [
        "# generate a pattern where each letter in the alphabet repeats a number of times equal to its position. For example:\n",
        "# a (1st letter) → 1 time → a\n",
        "# b (2nd letter) → 2 times → bb\n",
        "# c (3rd letter) → 3 times → ccc\n",
        "# and so on...\n",
        "# So the pattern starts like:\n",
        "# abbcccdddd...\n",
        "\n",
        "alphabets = list(\"abcdefghijklmnopqrstuvwxyz\")\n",
        "def generatePattern(n):\n",
        "  result = []\n",
        "\n",
        "  for i in range(n):\n",
        "    result.append((alphabets[i]* (i+1)))\n",
        "\n",
        "  return \"\".join(result)\n",
        "\n",
        "print(generatePattern(3))\n",
        "print(generatePattern(5))\n",
        "print(generatePattern(8))\n",
        "\n",
        "print(len(alphabets))"
      ],
      "metadata": {
        "colab": {
          "base_uri": "https://localhost:8080/"
        },
        "id": "5-Lec9_39lnL",
        "outputId": "2ee6386e-7a46-49d3-90d1-adb20318a3f4"
      },
      "execution_count": null,
      "outputs": [
        {
          "output_type": "stream",
          "name": "stdout",
          "text": [
            "abbccc\n",
            "abbcccddddeeeee\n",
            "abbcccddddeeeeeffffffggggggghhhhhhhh\n",
            "26\n"
          ]
        }
      ]
    },
    {
      "cell_type": "code",
      "source": [
        "# Check if two strings are anagrams.\n",
        "# frequency of each char from s1 eual to s2\n",
        "\n",
        "from collections import Counter\n",
        "\n",
        "def check_anagram_string(s1, s2):\n",
        "  #not anagrams\n",
        "  if len(s1) != len(s2):\n",
        "    return False\n",
        "\n",
        "  # Avoid case sensitivity\n",
        "  s1 = s1.lower()\n",
        "  s2 = s2.lower()\n",
        "\n",
        "  freq = {}\n",
        "\n",
        "  #Method 1\n",
        "  for s in s1:\n",
        "    freq[s] = freq.get(s, 0) + 1\n",
        "\n",
        "  for s in s2:\n",
        "    # for element not in s1\n",
        "    if s not in freq:\n",
        "      return False\n",
        "\n",
        "    # more freq of char is s2\n",
        "    freq[s] -=1\n",
        "    if freq[s] <0:\n",
        "      return False\n",
        "\n",
        "  return True\n",
        "\n",
        "  # Method 2\n",
        "  #return sorted(s1)== sorted(s2)\n",
        "\n",
        "  # Method 3\n",
        "  #return Counter(s1) == Counter(s2)\n",
        "\n",
        "print(check_anagram_string(\"listen\", \"silent\"))\n",
        "print(check_anagram_string(\"triangle\", \"integral\"))\n",
        "print(check_anagram_string(\"hello\", \"world\"))"
      ],
      "metadata": {
        "colab": {
          "base_uri": "https://localhost:8080/"
        },
        "id": "OPjYk8eR-Tq4",
        "outputId": "218f2a0b-5956-44a5-f83f-74c54c937e35"
      },
      "execution_count": null,
      "outputs": [
        {
          "output_type": "stream",
          "name": "stdout",
          "text": [
            "True\n",
            "True\n",
            "False\n"
          ]
        }
      ]
    },
    {
      "cell_type": "code",
      "source": [
        "# run-length encoding algorithm.\n",
        "# Run-length encoding compresses a string by replacing consecutive repeating characters with a single character followed by the count.\n",
        "\n",
        "def run_length_encoding(s):\n",
        "  if not s:\n",
        "    return \"\"\n",
        "\n",
        "  result = []\n",
        "  count =1\n",
        "\n",
        "  for i in range(1, len(s)):\n",
        "    if s[i-1]==s[i]:\n",
        "      count+=1\n",
        "    else:\n",
        "      result.append(s[i-1] + str(count))\n",
        "      count=1\n",
        "\n",
        "  result.append(s[-1] + str(count))\n",
        "\n",
        "  return \"\".join(result)\n",
        "\n",
        "print(run_length_encoding(\"aaabcddde\"))\n",
        "print(run_length_encoding(\"a\"))\n",
        "print(run_length_encoding(\"aaabbcaaa\"))\n",
        "print(run_length_encoding(\"abc\"))\n",
        "print(run_length_encoding(\"\"))"
      ],
      "metadata": {
        "colab": {
          "base_uri": "https://localhost:8080/"
        },
        "id": "hcEW55WMBm0o",
        "outputId": "a6fc6bdb-b788-4600-945d-867b903cdacf"
      },
      "execution_count": null,
      "outputs": [
        {
          "output_type": "stream",
          "name": "stdout",
          "text": [
            "a3b1c1d3e1\n",
            "a1\n",
            "a3b2c1a3\n",
            "a1b1c1\n",
            "\n"
          ]
        }
      ]
    },
    {
      "cell_type": "code",
      "source": [
        "# Reverse each word in a sentence without reversing the word order.\n",
        "\n",
        "def reverse_words(s):\n",
        "  if not s:\n",
        "    return \"\"\n",
        "\n",
        "\n",
        "  # method 1\n",
        "  # words = s.split()\n",
        "  # rev_words = [w[::-1] for w in words]\n",
        "  # return \" \".join(rev_words)\n",
        "\n",
        "  # method 2\n",
        "\n",
        "  words = s.split()\n",
        "\n",
        "  def reverse_word(w):\n",
        "    w= list(w)\n",
        "    left=0\n",
        "    right=len(w)-1\n",
        "\n",
        "    while left < right:\n",
        "      w[left], w[right]= w[right], w[left]\n",
        "      left+=1\n",
        "      right-=1\n",
        "\n",
        "    return \"\".join(w)\n",
        "\n",
        "\n",
        "  for i in range(len(words)):\n",
        "    words[i] = reverse_word(words[i])\n",
        "\n",
        "  return \" \".join(words)\n",
        "\n",
        "print(reverse_words(\"hello there\"))\n",
        "print(reverse_words(\"I love Python\"))\n",
        "print(reverse_words(\"Hello World\"))\n",
        "print(reverse_words(\"  Spaces  here \"))"
      ],
      "metadata": {
        "colab": {
          "base_uri": "https://localhost:8080/"
        },
        "id": "Kuq682toMjyl",
        "outputId": "dca4edc5-963c-4b78-edb2-97327fca451e"
      },
      "execution_count": null,
      "outputs": [
        {
          "output_type": "stream",
          "name": "stdout",
          "text": [
            "olleh ereht\n",
            "I evol nohtyP\n",
            "olleH dlroW\n",
            "secapS ereh\n"
          ]
        }
      ]
    },
    {
      "cell_type": "code",
      "source": [
        "# 5. Convert Roman numerals to integers.\n",
        "\n",
        "rom_map = {\n",
        "    \"I\": 1,\n",
        "    \"V\": 5,\n",
        "    \"X\": 10,\n",
        "    \"L\": 50,\n",
        "    \"C\": 100,\n",
        "    \"D\": 500,\n",
        "    \"M\": 1000,\n",
        "}\n",
        "\n",
        "def rom_to_int(num):\n",
        "  total=0\n",
        "  prev=0\n",
        "\n",
        "  for n in reversed(num):\n",
        "    v =rom_map[n]\n",
        "    if v < prev:\n",
        "      total -= v\n",
        "    else:\n",
        "      total += v\n",
        "    prev = v\n",
        "\n",
        "  return total\n",
        "\n",
        "print(rom_to_int(\"I\"))\n",
        "print(rom_to_int(\"III\"))\n",
        "print(rom_to_int(\"IV\"))\n",
        "print(rom_to_int(\"IX\"))\n",
        "print(rom_to_int(\"LVIII\"))\n",
        "print(rom_to_int(\"MCMXCIV\"))"
      ],
      "metadata": {
        "colab": {
          "base_uri": "https://localhost:8080/"
        },
        "id": "HJcp1ecIPk7F",
        "outputId": "f3764ba7-4fa2-4807-fbbb-2d60cb380532"
      },
      "execution_count": null,
      "outputs": [
        {
          "output_type": "stream",
          "name": "stdout",
          "text": [
            "1\n",
            "3\n",
            "4\n",
            "9\n",
            "58\n",
            "1994\n"
          ]
        }
      ]
    },
    {
      "cell_type": "code",
      "source": [
        "#1. Find the second largest number in a list.\n",
        "\n",
        "def second_large_num(nums):\n",
        "  if len(nums) < 2:\n",
        "    return None\n",
        "\n",
        "  first = second = float('-inf')\n",
        "\n",
        "  for n in nums:\n",
        "    if n > first:\n",
        "      second, first = first, n\n",
        "    elif first > n > second:\n",
        "      second = n\n",
        "\n",
        "  return None if second == float('-inf') else second\n",
        "\n",
        "\n",
        "print(second_large_num([9,7,6,5,4,1]))\n",
        "print(second_large_num([10, 20, 4, 45, 99]))\n",
        "print(second_large_num([5, 5, 5]))\n",
        "print(second_large_num([2]))\n",
        "print(second_large_num([-1, -5, -2]))"
      ],
      "metadata": {
        "colab": {
          "base_uri": "https://localhost:8080/"
        },
        "id": "kIpbtpJbkd3v",
        "outputId": "b677eb8d-d629-4d69-bfa7-ba5737b62a20"
      },
      "execution_count": null,
      "outputs": [
        {
          "output_type": "stream",
          "name": "stdout",
          "text": [
            "7\n",
            "45\n",
            "None\n",
            "None\n",
            "-2\n"
          ]
        }
      ]
    },
    {
      "cell_type": "code",
      "source": [
        "#2. Remove duplicates from a list without using set().\n",
        "\n",
        "def remove_duplicate(nums):\n",
        "  result= []\n",
        "  seen = {}\n",
        "\n",
        "  for n in nums:\n",
        "    if n not in seen:\n",
        "      result.append(n)\n",
        "      seen[n] = True\n",
        "  return result\n",
        "\n",
        "\n",
        "print(remove_duplicate([1, 2, 2, 3, 4, 3, 5]))\n",
        "print(remove_duplicate(['a', 'b', 'a', 'c', 'b']))"
      ],
      "metadata": {
        "colab": {
          "base_uri": "https://localhost:8080/"
        },
        "id": "1ZAJ97U5Fc8U",
        "outputId": "fca8e8c5-4fb0-437f-96b9-5b74d880b561"
      },
      "execution_count": null,
      "outputs": [
        {
          "output_type": "stream",
          "name": "stdout",
          "text": [
            "[1, 2, 3, 4, 5]\n",
            "['a', 'b', 'c']\n"
          ]
        }
      ]
    },
    {
      "cell_type": "code",
      "source": [
        "# 3. Rotate a list by k steps.\n",
        "\n",
        "def rotate_list(nums, k):\n",
        "  n=len(nums)\n",
        "\n",
        "  if n==0:\n",
        "    return nums\n",
        "\n",
        "  k=k%n # handle case where k > n\n",
        "\n",
        "  def rotate(left, right):\n",
        "    while left< right:\n",
        "      nums[left], nums[right]= nums[right], nums[left]\n",
        "      left+=1\n",
        "      right-=1\n",
        "\n",
        "  rotate(0, n-1) # rotate whole\n",
        "  rotate(0, k-1) # rotate first k\n",
        "  rotate(k, n-1) # rotate remaining\n",
        "\n",
        "  return nums\n",
        "\n",
        "print(rotate_list([1,2,3,4,5,6], 3))"
      ],
      "metadata": {
        "colab": {
          "base_uri": "https://localhost:8080/"
        },
        "id": "ZIjMCZlBIXXU",
        "outputId": "20ccc48c-0e26-4d30-9242-d1fdfce3a9dc"
      },
      "execution_count": null,
      "outputs": [
        {
          "output_type": "stream",
          "name": "stdout",
          "text": [
            "[4, 5, 6, 1, 2, 3]\n"
          ]
        }
      ]
    },
    {
      "cell_type": "code",
      "source": [
        "# 4. Merge two sorted lists without using built-in functions.\n",
        "\n",
        "def merge_lists(n1, n2):\n",
        "  merged = []\n",
        "  i=0\n",
        "  j=0\n",
        "\n",
        "  while i < len(n1) and j < len(n2):\n",
        "    if n1[i] < n2[j]:\n",
        "      merged.append(n1[i])\n",
        "      i+=1\n",
        "    else:\n",
        "      merged.append(n2[j])\n",
        "      j+=1\n",
        "\n",
        "  if i < len(n1):\n",
        "    merged.extend(n1[i:])\n",
        "  if j < len(n2):\n",
        "    merged.extend(n2[i:])\n",
        "\n",
        "  return merged\n",
        "\n",
        "print(merge_lists([1,3,5,8], [1,2,4,6]))"
      ],
      "metadata": {
        "colab": {
          "base_uri": "https://localhost:8080/"
        },
        "id": "nMcrSt7TLFPj",
        "outputId": "1036586d-3711-42e1-e28b-2c05433ef773"
      },
      "execution_count": null,
      "outputs": [
        {
          "output_type": "stream",
          "name": "stdout",
          "text": [
            "[1, 1, 2, 3, 4, 5, 6, 8]\n"
          ]
        }
      ]
    },
    {
      "cell_type": "code",
      "source": [
        "# 5. Implement a sliding window maximum.\n",
        "# Given a list of integers and a window size k, return a list of the maximum values in each window as it slides from left to right.\n",
        "\n",
        "def sliding_window(nums, k):\n",
        "  n= len(nums)\n",
        "  if n < k or k<=0:\n",
        "    return []\n",
        "\n",
        "  result=[]\n",
        "\n",
        "  for i in range(n-(k-1)):\n",
        "    result.append(max(nums[i:i+k]))\n",
        "  return result\n",
        "\n",
        "s = sliding_window([1,2,3,4,5,6], 2)\n",
        "\n",
        "print(s)"
      ],
      "metadata": {
        "colab": {
          "base_uri": "https://localhost:8080/"
        },
        "id": "Wu1nKsydL5cY",
        "outputId": "76d70ac9-1e39-4d0d-ef25-5e26dac29d32"
      },
      "execution_count": null,
      "outputs": [
        {
          "output_type": "stream",
          "name": "stdout",
          "text": [
            "[2, 3, 4, 5, 6]\n"
          ]
        }
      ]
    },
    {
      "cell_type": "code",
      "source": [
        "def longest_pal(s):\n",
        "  if not s:\n",
        "    return s\n",
        "\n",
        "  start=0\n",
        "  end=0\n",
        "\n",
        "  def window(l, r):\n",
        "    while l>=0 and r< len(s) and s[l]==s[r]:\n",
        "      l-=1\n",
        "      r+=1\n",
        "    return l+1, r-1\n",
        "\n",
        "  for i in range(len(s)):\n",
        "    l1, r1 = window(i,i)\n",
        "    l2, r2 = window(i,i+1)\n",
        "\n",
        "    if (r1-l1) > (end-start):\n",
        "      start, end = l1, r1\n",
        "    if (r2-l2) > (end-start):\n",
        "      start, end = l2, r2\n",
        "  return s[start: end+1]\n",
        "\n",
        "print(longest_pal(\"accbbcc\"))\n",
        "print(longest_pal(\"accbabcc\"))\n",
        "print(longest_pal(\"\"))\n",
        "print(longest_pal(\"a\"))"
      ],
      "metadata": {
        "id": "DqXnJYAf9HM1",
        "colab": {
          "base_uri": "https://localhost:8080/"
        },
        "outputId": "874cbf8c-9dab-4a0a-b649-097bed92dc19"
      },
      "execution_count": 8,
      "outputs": [
        {
          "output_type": "stream",
          "name": "stdout",
          "text": [
            "ccbbcc\n",
            "ccbabcc\n",
            "\n",
            "a\n"
          ]
        }
      ]
    },
    {
      "cell_type": "code",
      "source": [
        "# 1. Count frequency of elements in a list.\n",
        "from collections import Counter\n",
        "\n",
        "def freq_counter(nums):\n",
        "\n",
        "  freq ={}\n",
        "\n",
        "  for n in nums:\n",
        "    freq[n] = freq.get(n, 0)+1\n",
        "\n",
        "  return freq\n",
        "  # return Counter(nums)\n",
        "\n",
        "print(freq_counter([1,2,3,4,4,5,5,5,5,5]))"
      ],
      "metadata": {
        "colab": {
          "base_uri": "https://localhost:8080/"
        },
        "id": "tA54DoMNHE4P",
        "outputId": "d7d98b84-e42f-4e94-a7d9-beb384de5d13"
      },
      "execution_count": 13,
      "outputs": [
        {
          "output_type": "stream",
          "name": "stdout",
          "text": [
            "{1: 1, 2: 1, 3: 1, 4: 2, 5: 5}\n"
          ]
        }
      ]
    },
    {
      "cell_type": "code",
      "source": [
        "#2. Group anagrams together from a list of words.\n",
        "from collections import defaultdict\n",
        "\n",
        "s=[\"eat\", \"tea\", \"tan\", \"ate\", \"nat\", \"bat\"]\n",
        "\n",
        "def group_anagrams(s):\n",
        "  if not s:\n",
        "    return []\n",
        "\n",
        "  result = defaultdict(list)\n",
        "\n",
        "  for w in s:\n",
        "    key = \"\".join(sorted(w))\n",
        "\n",
        "    result[key].append(w)\n",
        "\n",
        "  return list(result.values())\n",
        "\n",
        "print(group_anagrams(s))\n",
        "\n",
        "\n",
        "def m2ga(s):\n",
        "  result = defaultdict(list)\n",
        "\n",
        "  for word in s:\n",
        "        count = [0] * 26\n",
        "        for ch in word:\n",
        "            count[ord(ch) - ord('a')] += 1\n",
        "        result[tuple(count)].append(word)\n",
        "\n",
        "  return list(result.values())\n",
        "\n",
        "print(m2ga(s))"
      ],
      "metadata": {
        "colab": {
          "base_uri": "https://localhost:8080/"
        },
        "id": "z89ZeSItJGUG",
        "outputId": "817b786f-0b1c-46af-f039-5fd887ed9485"
      },
      "execution_count": 26,
      "outputs": [
        {
          "output_type": "stream",
          "name": "stdout",
          "text": [
            "[['eat', 'tea', 'ate'], ['tan', 'nat'], ['bat']]\n",
            "[['eat', 'tea', 'ate'], ['tan', 'nat'], ['bat']]\n"
          ]
        }
      ]
    },
    {
      "cell_type": "code",
      "source": [
        "# 3. Implement an LRU cache using OrderedDict.\n",
        "\n",
        "from collections import OrderedDict\n",
        "\n",
        "class LRUCache:\n",
        "  def __init__(self, capacity: int):\n",
        "    self.cache = OrderedDict() # dict, remembers order items added in\n",
        "    self.capacity = capacity\n",
        "\n",
        "  def get(self, key):\n",
        "    if key not in self.cache:\n",
        "      return -1\n",
        "    self.cache.move_to_end(key)\n",
        "    return self.cache[key]\n",
        "\n",
        "  def put(self, key, value):\n",
        "    if key in self.cache:\n",
        "      self.cache.move_to_end(key)\n",
        "\n",
        "    self.cache[key] = value\n",
        "\n",
        "    if len(self.cache) > self.capacity:\n",
        "      self.cache.popitem(last=False) # pop = remove item witk key, popitem= remove recent/oldest item\n",
        "\n",
        "lru = LRUCache(capacity=5)\n",
        "\n",
        "lru.put(\"amount\", 1000)\n",
        "lru.put(\"price\", 1001)\n",
        "lru.put(\"cash\", 1002)\n",
        "lru.put(\"dollar\", 1003)\n",
        "lru.put(\"rupees\", 1004)\n",
        "lru.put(\"aed\", 1005)\n",
        "\n",
        "print(lru.get(\"amount\"))\n",
        "print(lru.get(\"price\"))\n",
        "print(lru.get(\"aed\"))"
      ],
      "metadata": {
        "colab": {
          "base_uri": "https://localhost:8080/"
        },
        "id": "lRl3ERsVKVOh",
        "outputId": "db4e796c-3054-4bfb-c0bc-b76e3c2476ca"
      },
      "execution_count": 4,
      "outputs": [
        {
          "output_type": "stream",
          "name": "stdout",
          "text": [
            "-1\n",
            "1001\n",
            "1005\n"
          ]
        }
      ]
    },
    {
      "cell_type": "code",
      "source": [
        "#4. Find the first non-repeating character in a string.\n",
        "\n",
        "from collections import Counter\n",
        "\n",
        "def find_unique_char(s):\n",
        "  freq = Counter(s)\n",
        "\n",
        "  for k in freq.keys():\n",
        "    if freq[k] == 1:\n",
        "      return k\n",
        "\n",
        "  return None\n",
        "\n",
        "print(find_unique_char(\"leetcode\"))\n",
        "print(find_unique_char(\"aabbcc\"))\n",
        "print(find_unique_char(\"swiss\"))"
      ],
      "metadata": {
        "colab": {
          "base_uri": "https://localhost:8080/"
        },
        "id": "-T2dfLQfzgnj",
        "outputId": "ef7600d0-dd33-4210-ba95-3ff07fd82d7f"
      },
      "execution_count": 5,
      "outputs": [
        {
          "output_type": "stream",
          "name": "stdout",
          "text": [
            "l\n",
            "None\n",
            "w\n"
          ]
        }
      ]
    },
    {
      "cell_type": "code",
      "source": [
        "#5. Word frequency counter ignoring stopwords.\n",
        "\n",
        "def stop_word_freq(s):\n",
        "  stopwords=[\"is\", \"a\", \"the\", \"an\", \"and\", \"in\"]\n",
        "\n",
        "  words= s.lower().split()\n",
        "  punc_less_words = [word.strip(\".!,?$@#*\") for word in words]\n",
        "  filtered_words = [word for word in punc_less_words if word not in stopwords]\n",
        "\n",
        "  return Counter(filtered_words)\n",
        "\n",
        "\n",
        "text = \"The cat is on the mat and the dog is in the yard.\"\n",
        "stop_word_freq(text)"
      ],
      "metadata": {
        "colab": {
          "base_uri": "https://localhost:8080/"
        },
        "id": "9Q7wF0GA2foa",
        "outputId": "057551d7-2094-4536-fc3a-4c444f478dfc"
      },
      "execution_count": 12,
      "outputs": [
        {
          "output_type": "execute_result",
          "data": {
            "text/plain": [
              "Counter({'cat': 1, 'on': 1, 'mat': 1, 'dog': 1, 'yard': 1})"
            ]
          },
          "metadata": {},
          "execution_count": 12
        }
      ]
    },
    {
      "cell_type": "code",
      "source": [
        "# 1. Generate all subsets of a list (power set).\n",
        "\n",
        "def get_subset(nums):\n",
        "  # Method 1\n",
        "  # n=len(nums)\n",
        "  # result = []\n",
        "\n",
        "  # for mask in range(1<<n): # 2^n\n",
        "  #   subset = []\n",
        "  #   for i in range(n):\n",
        "  #     if mask & (1<<i):\n",
        "  #       subset.append(nums[i])\n",
        "\n",
        "  #   result.append(subset)\n",
        "\n",
        "  # return result\n",
        "\n",
        "  # Method 2\n",
        "  result = []\n",
        "  def backtrack(start, path):\n",
        "    result.append(path[:])\n",
        "\n",
        "    for i in range(start, len(nums)):\n",
        "      path.append(nums[i])\n",
        "      backtrack(i+1, path)\n",
        "      path.pop()\n",
        "\n",
        "\n",
        "  backtrack(0, [])\n",
        "\n",
        "  return result\n",
        "\n",
        "get_subset([1, 2, 3])"
      ],
      "metadata": {
        "colab": {
          "base_uri": "https://localhost:8080/"
        },
        "id": "_s8gYLuw2qhd",
        "outputId": "5b1cf53a-0429-4f08-a6fb-84e7aab0a249"
      },
      "execution_count": 16,
      "outputs": [
        {
          "output_type": "execute_result",
          "data": {
            "text/plain": [
              "[[], [1], [1, 2], [1, 2, 3], [1, 3], [2], [2, 3], [3]]"
            ]
          },
          "metadata": {},
          "execution_count": 16
        }
      ]
    },
    {
      "cell_type": "code",
      "source": [
        "# 2. Implement Fibonacci with memoization.\n",
        "\n",
        "from functools import lru_cache\n",
        "\n",
        "@lru_cache(maxsize=100)\n",
        "def fib(n):\n",
        "  if n<=1:\n",
        "    return n\n",
        "  return fib(n-1) + fib(n-2)\n",
        "\n",
        "\n",
        "print(fib(10))\n",
        "\n",
        "\n",
        "def generate_fib(n):\n",
        "  if n<=0:\n",
        "    return []\n",
        "  if n==1:\n",
        "    return [0]\n",
        "\n",
        "  fibs = [0,1]\n",
        "  for i in range(2, n):\n",
        "    fibs.append(fibs[-1]+ fibs[-2])\n",
        "\n",
        "  return fibs\n",
        "\n",
        "generate_fib(5)"
      ],
      "metadata": {
        "colab": {
          "base_uri": "https://localhost:8080/"
        },
        "id": "wSuad-GS854S",
        "outputId": "d1af6cf6-f38e-40b4-dce6-904301916a0d"
      },
      "execution_count": 22,
      "outputs": [
        {
          "output_type": "stream",
          "name": "stdout",
          "text": [
            "55\n"
          ]
        },
        {
          "output_type": "execute_result",
          "data": {
            "text/plain": [
              "[0, 1, 1, 2, 3]"
            ]
          },
          "metadata": {},
          "execution_count": 22
        }
      ]
    },
    {
      "cell_type": "code",
      "source": [
        "# 3. Word break problem (does the string split into dictionary words?).\n",
        "\n",
        "def word_break(s, dictionary):\n",
        "  word_set = set(dictionary)\n",
        "  n =len(s)\n",
        "\n",
        "  dp = [False] * (n+1)\n",
        "  dp[0] = True\n",
        "\n",
        "  for i in range(1, n+1):\n",
        "    for j in range(i):\n",
        "      if dp[j] and s[j:i] in word_set:\n",
        "        dp[i]=True\n",
        "        break\n",
        "\n",
        "  return dp[n]\n",
        "\n",
        "print(word_break(\"applepenapple\", [\"apple\", \"pen\"]))  # True\n",
        "print(word_break(\"catsandog\", [\"cats\", \"dog\", \"sand\", \"and\", \"cat\"]))"
      ],
      "metadata": {
        "colab": {
          "base_uri": "https://localhost:8080/"
        },
        "id": "dGosQ5ks9m5Q",
        "outputId": "cdf18df5-a0d8-4d73-9baa-fd7c0ae810f2"
      },
      "execution_count": 24,
      "outputs": [
        {
          "output_type": "stream",
          "name": "stdout",
          "text": [
            "True\n",
            "False\n"
          ]
        }
      ]
    },
    {
      "cell_type": "code",
      "source": [
        "# 4. Minimum number of coins to make a target sum.\n",
        "\n",
        "def get_coin_converage(coins, target):\n",
        "  dp = [float('inf')] * (target+1)\n",
        "  dp[0] = 0\n",
        "\n",
        "  for amount in range(1, target+1):\n",
        "    for coin in coins:\n",
        "      if amount - coin>=0:\n",
        "        dp[amount] = min(dp[amount], dp[amount-coin]+1)\n",
        "  return dp[target] if dp[target] !=float('inf') else None\n",
        "\n",
        "print(get_coin_converage([1,2,5], 11))"
      ],
      "metadata": {
        "colab": {
          "base_uri": "https://localhost:8080/"
        },
        "id": "oxs064AaBh2w",
        "outputId": "73ec1acc-f972-4653-cb89-4d69483ab2b6"
      },
      "execution_count": 30,
      "outputs": [
        {
          "output_type": "stream",
          "name": "stdout",
          "text": [
            "3\n"
          ]
        }
      ]
    },
    {
      "cell_type": "code",
      "source": [
        "# 5. Longest common subsequence between two strings.\n",
        "\n",
        "def comm_seque(s1, s2):\n",
        "  m, n = len(s1), len(s2)\n",
        "  dp = [[0] * (n+1) for _ in range(m+1)]\n",
        "\n",
        "  for i in range(1, m+1):\n",
        "    for j in range(1, n+1):\n",
        "      if s1[i-1] == s2[j-1]:\n",
        "        dp[i][j] = dp[i-1][j-1]+1\n",
        "      else:\n",
        "        dp[i][j] = max(dp[i-1][j], dp[i][j-1])\n",
        "\n",
        "  return dp[m][n]\n",
        "\n",
        "s1 = \"abcde\"\n",
        "s2 = \"ace\"\n",
        "comm_seque(s1, s2)"
      ],
      "metadata": {
        "colab": {
          "base_uri": "https://localhost:8080/"
        },
        "id": "JFQv6HcJC23o",
        "outputId": "83f4ef5b-7d63-4eb2-ae2d-e70c9881ad98"
      },
      "execution_count": 31,
      "outputs": [
        {
          "output_type": "execute_result",
          "data": {
            "text/plain": [
              "3"
            ]
          },
          "metadata": {},
          "execution_count": 31
        }
      ]
    },
    {
      "cell_type": "code",
      "source": [
        "# 1. Implement a basic class for a media article with title, author, and content.\n",
        "\n",
        "class MediaArticle:\n",
        "  def __init__(self, title, author, content):\n",
        "    self.title = title\n",
        "    self.author = author\n",
        "    self.content = content\n",
        "\n",
        "  def summary(self, length=100):\n",
        "    return f\"\"\"\n",
        "    {self.title} by {self.author}\\n\n",
        "    {self.content[:100]+\"...\" if len(self.content) > 100 else self.content}\n",
        "    \"\"\"\n",
        "  def display(self):\n",
        "    print(self.title)\n",
        "    print(self.author)\n",
        "    print(self.content)\n",
        "\n",
        "article = MediaArticle(\n",
        "    title=\"AI Revolution in 2025\",\n",
        "    author=\"Jane Doe\",\n",
        "    content=\"Artificial Intelligence is transforming industries at an unprecedented pace Artificial Intelligence is transforming industries at an unprecedented paceArtificial Intelligence is transforming industries at an unprecedented paceArtificial Intelligence is transforming industries at an unprecedented paceArtificial Intelligence is transforming industries at an unprecedented paceArtificial Intelligence is transforming industries at an unprecedented pace\"\n",
        ")\n",
        "\n",
        "print(article.summary())\n",
        "print()\n",
        "print(\"__________________\")\n",
        "print()\n",
        "article.display()\n",
        "print()\n",
        "print(\"__________________\")\n",
        "print()\n"
      ],
      "metadata": {
        "colab": {
          "base_uri": "https://localhost:8080/"
        },
        "id": "m0UzakmjNuom",
        "outputId": "da8432c9-0ffa-425f-8752-8bea1404e05f"
      },
      "execution_count": 37,
      "outputs": [
        {
          "output_type": "stream",
          "name": "stdout",
          "text": [
            "\n",
            "    AI Revolution in 2025 by Jane Doe\n",
            "\n",
            "    Artificial Intelligence is transforming industries at an unprecedented pace Artificial Intelligence ...\n",
            "    \n",
            "\n",
            "__________________\n",
            "\n",
            "AI Revolution in 2025\n",
            "Jane Doe\n",
            "Artificial Intelligence is transforming industries at an unprecedented pace Artificial Intelligence is transforming industries at an unprecedented paceArtificial Intelligence is transforming industries at an unprecedented paceArtificial Intelligence is transforming industries at an unprecedented paceArtificial Intelligence is transforming industries at an unprecedented paceArtificial Intelligence is transforming industries at an unprecedented pace\n"
          ]
        }
      ]
    },
    {
      "cell_type": "code",
      "source": [
        "# 2. Override __str__, __eq__, and __hash__ in a custom class.\n",
        "\n",
        "class Book:\n",
        "  def __init__(self, title, author, year):\n",
        "    self.title = title\n",
        "    self.author = author\n",
        "    self.year = year\n",
        "\n",
        "  def __str__(self):\n",
        "    return f\"{self.title} is writen by {self.author} in ({self.year})\"\n",
        "\n",
        "  def __eq__(self, other):\n",
        "    if not isinstance(other, Book):\n",
        "      return NotImplemented\n",
        "    return (self.title, self.author) == (other.title, other.author)\n",
        "\n",
        "  def __hash__(self):\n",
        "    return hash((self.title, self.author))\n",
        "\n",
        "b1 =  Book(\"One in One\", \"A1\", 1994)\n",
        "b4 =  Book(\"One in One\", \"A1\", 1995)\n",
        "b2 =  Book(\"One in Two\", \"A2\", 1995)\n",
        "b3 =  Book(\"One in Three\", \"A3\", 1996)\n",
        "\n",
        "\n",
        "print(b1)\n",
        "print(b2)\n",
        "print(b3)\n",
        "\n",
        "print(b1 == b4)\n",
        "print(b1 == b2)\n",
        "\n",
        "books = {b1, b2, b3, b4} # b1==b4 hence total 3 only instead of 4\n",
        "\n",
        "print(len(books))"
      ],
      "metadata": {
        "colab": {
          "base_uri": "https://localhost:8080/"
        },
        "id": "POgJi5W9PG8n",
        "outputId": "391d9bc8-cd17-489c-841e-8c2b32ff5a81"
      },
      "execution_count": 40,
      "outputs": [
        {
          "output_type": "stream",
          "name": "stdout",
          "text": [
            "One in One is writen by A1 in (1994)\n",
            "One in Two is writen by A2 in (1995)\n",
            "One in Three is writen by A3 in (1996)\n",
            "True\n",
            "False\n",
            "3\n"
          ]
        }
      ]
    },
    {
      "cell_type": "code",
      "source": [
        "#. 3. Implement a Singleton pattern.\n",
        "class Singleton:\n",
        "  _instance = None\n",
        "\n",
        "  def __new__(cls, *args, **kwargs):\n",
        "    if cls._instance is None:\n",
        "      cls._instance = super().__new__(cls)\n",
        "\n",
        "    return cls._instance\n",
        "class Logger(Singleton):\n",
        "  def __init__(self, name):\n",
        "    if not hasattr(self, \"name\"):\n",
        "      self.name= name\n",
        "  def log(self, msg):\n",
        "    print(f\"[{self.name}]: {msg}\")\n",
        "\n",
        "logger1 = Logger(\"MainLogger\")\n",
        "logger2 = Logger(\"OtherLogger\")\n",
        "\n",
        "print(logger1 is logger2)\n",
        "\n",
        "logger1.log(\"Hello!\")\n",
        "logger2.log(\"Good bye!\")"
      ],
      "metadata": {
        "colab": {
          "base_uri": "https://localhost:8080/"
        },
        "id": "8iNlXEgdSwao",
        "outputId": "b7962cf0-3ddf-4091-d82e-2dd653f291b8"
      },
      "execution_count": 43,
      "outputs": [
        {
          "output_type": "stream",
          "name": "stdout",
          "text": [
            "True\n",
            "[MainLogger]: Hello!\n",
            "[MainLogger]: Good bye!\n"
          ]
        }
      ]
    },
    {
      "cell_type": "code",
      "source": [
        "import threading\n",
        "\n",
        "class ThreadSafeSingleton:\n",
        "    _instance = None\n",
        "    _lock = threading.Lock()  # Lock for thread safety\n",
        "\n",
        "    def __new__(cls, *args, **kwargs):\n",
        "        if cls._instance is None:\n",
        "            with cls._lock:  # Ensure only one thread enters\n",
        "                if cls._instance is None:  # Double check\n",
        "                    cls._instance = super().__new__(cls)\n",
        "        return cls._instance\n",
        "\n",
        "    def __init__(self, name):\n",
        "        if not hasattr(self, \"name\"):\n",
        "            self.name = name\n",
        "\n",
        "\n",
        "# Usage in multi-threaded code\n",
        "def create_singleton(name):\n",
        "    s = ThreadSafeSingleton(name)\n",
        "    print(f\"Created: {s.name}, id={id(s)}\")\n",
        "\n",
        "threads = []\n",
        "for i in range(5):\n",
        "    t = threading.Thread(target=create_singleton, args=(f\"Logger-{i}\",))\n",
        "    threads.append(t)\n",
        "    t.start()\n",
        "\n",
        "for t in threads:\n",
        "    t.join()\n"
      ],
      "metadata": {
        "colab": {
          "base_uri": "https://localhost:8080/"
        },
        "id": "hNqylybqWG0s",
        "outputId": "6e67759b-5918-46de-def9-bd198d67fd04"
      },
      "execution_count": 44,
      "outputs": [
        {
          "output_type": "stream",
          "name": "stdout",
          "text": [
            "Created: Logger-0, id=134805412899088\n",
            "Created: Logger-0, id=134805412899088\n",
            "Created: Logger-0, id=134805412899088\n",
            "Created: Logger-0, id=134805412899088\n",
            "Created: Logger-0, id=134805412899088\n"
          ]
        }
      ]
    },
    {
      "cell_type": "code",
      "source": [
        "with open(\"sample.txt\", \"w\") as f:\n",
        "    f.write(\"First line\\nSecond line\\nThird line\\n\")"
      ],
      "metadata": {
        "id": "hpo6rRqFY5Pg"
      },
      "execution_count": 46,
      "outputs": []
    },
    {
      "cell_type": "code",
      "source": [
        "# 4. Create a custom iterator for reading lines from a file.\n",
        "import os\n",
        "class FileLineReador:\n",
        "  def __init__(self, filename):\n",
        "    self.filename = filename\n",
        "\n",
        "    if os.path.isfile(filename):\n",
        "      self.file = open(filename, \"r\")\n",
        "\n",
        "  def __iter__(self):\n",
        "    return self\n",
        "\n",
        "  def __next__(self):\n",
        "    line =self.file.readline()\n",
        "\n",
        "    if not line:\n",
        "      self.file.close()\n",
        "      raise StopIteration\n",
        "    return line.strip()\n",
        "\n",
        "reader = FileLineReador(\"/content/sample.txt\")\n",
        "print(next(reader))\n",
        "print(next(reader))\n",
        "print(next(reader))"
      ],
      "metadata": {
        "colab": {
          "base_uri": "https://localhost:8080/"
        },
        "id": "LeutcwaoVxCb",
        "outputId": "11d9af12-c4d0-4343-c7a1-92c575377fc2"
      },
      "execution_count": 52,
      "outputs": [
        {
          "output_type": "stream",
          "name": "stdout",
          "text": [
            "First line\n",
            "Second line\n",
            "Third line\n"
          ]
        }
      ]
    },
    {
      "cell_type": "code",
      "source": [
        "def line_reader(filename):\n",
        "  with open(filename, \"r\") as f:\n",
        "    for line in f:\n",
        "      yield line.strip()\n",
        "\n",
        "reader = line_reader(\"/content/sample.txt\")\n",
        "\n",
        "print(next(reader))\n",
        "print(next(reader))\n",
        "print(next(reader))"
      ],
      "metadata": {
        "colab": {
          "base_uri": "https://localhost:8080/"
        },
        "id": "3MsBU6tNY-Dz",
        "outputId": "c67ce5e2-43ea-4e3e-ad09-863367fc210b"
      },
      "execution_count": 54,
      "outputs": [
        {
          "output_type": "stream",
          "name": "stdout",
          "text": [
            "First line\n",
            "Second line\n",
            "Third line\n"
          ]
        }
      ]
    },
    {
      "cell_type": "code",
      "source": [
        "# 5. Design a class that supports undo/redo functionality.\n",
        "class UndoRedo:\n",
        "  def __init__(self, initia_state=None):\n",
        "    self.undo = []\n",
        "    self.redo = []\n",
        "    self.current_state = initia_state\n",
        "\n",
        "  def set_state(self, new_state):\n",
        "    if self.current_state is not None:\n",
        "      self.undo.append(self.current_state)\n",
        "    self.current_state = new_state\n",
        "    self.redo.clear()\n",
        "  def undo_state(self):\n",
        "    if not self.undo:\n",
        "      print(\"No undo history!\")\n",
        "      return\n",
        "    self.redo.append(self.current_state)\n",
        "    self.current_state = self.undo.pop()\n",
        "\n",
        "  def redo_state(self):\n",
        "    if not self.redo:\n",
        "      print(\"No redo history!\")\n",
        "      return\n",
        "    self.undo.append(self.current_state)\n",
        "    self.current_state = self.redo.pop()\n",
        "  def get_state(self):\n",
        "    return self.current_state\n",
        "\n",
        "manager = UndoRedo(\"Start\")\n",
        "\n",
        "manager.set_state(\"A\")\n",
        "manager.set_state(\"B\")\n",
        "manager.set_state(\"C\")\n",
        "\n",
        "print(manager.get_state())\n",
        "manager.undo_state()\n",
        "print(manager.get_state())\n",
        "manager.undo_state()\n",
        "print(manager.get_state())\n",
        "manager.redo_state()\n",
        "print(manager.get_state())"
      ],
      "metadata": {
        "colab": {
          "base_uri": "https://localhost:8080/"
        },
        "id": "TiYv9eRjZw_G",
        "outputId": "a67b3ce6-66da-46e9-b9b4-8de8bea6528d"
      },
      "execution_count": 4,
      "outputs": [
        {
          "output_type": "stream",
          "name": "stdout",
          "text": [
            "C\n",
            "B\n",
            "A\n",
            "B\n"
          ]
        }
      ]
    },
    {
      "cell_type": "code",
      "source": [
        "# 1. Implement a Stack using two Queues.\n",
        "\n",
        "from collections import deque\n",
        "\n",
        "class StackUsinfQueue:\n",
        "  def __init__(self):\n",
        "    self.q1 = deque()\n",
        "    self.q2 = deque()\n",
        "  def push(self, x):\n",
        "    self.q2.append(x)\n",
        "\n",
        "    while self.q1:\n",
        "      self.q2.append(self.q1.popleft())\n",
        "\n",
        "    self.q1, self.q2 = self.q2, self.q1\n",
        "  def pop(self):\n",
        "    if not self.q1:\n",
        "      return None\n",
        "    return self.q1.popleft()\n",
        "\n",
        "  def top(self):\n",
        "    return self.q1[0] if self.q1 else None\n",
        "\n",
        "  def empty(self):\n",
        "    return len(self.q1) == 0\n",
        "\n",
        "stack = StackUsinfQueue()\n",
        "\n",
        "print(stack.push(10))\n",
        "print(stack.push(20))\n",
        "print(stack.push(30))\n",
        "\n",
        "print(stack.top())\n",
        "print(stack.pop())\n",
        "print(stack.empty())"
      ],
      "metadata": {
        "colab": {
          "base_uri": "https://localhost:8080/"
        },
        "id": "kdN1I3nKJaU9",
        "outputId": "781a230a-6528-4120-8553-47103c90da68"
      },
      "execution_count": 6,
      "outputs": [
        {
          "output_type": "stream",
          "name": "stdout",
          "text": [
            "None\n",
            "None\n",
            "None\n",
            "30\n",
            "30\n",
            "False\n"
          ]
        }
      ]
    },
    {
      "cell_type": "code",
      "source": [
        "# 2. Implement a Queue using two Stacks.\n",
        "\n",
        "class QueueUsingStack:\n",
        "  def __init__(self):\n",
        "    self.s1 = []\n",
        "    self.s2 = []\n",
        "\n",
        "  def enqueue(self, x):\n",
        "    self.s1.append(x)\n",
        "\n",
        "  def dequeue(self):\n",
        "    if not self.s2:\n",
        "      while self.s1:\n",
        "        self.s2.append(self.s1.pop())\n",
        "    if not self.s2:\n",
        "      return None\n",
        "    return self.s2.pop()\n",
        "\n",
        "  def peek(self):\n",
        "    if not self.s2:\n",
        "      while self.s1:\n",
        "        self.s2.append(self.s1.pop())\n",
        "    return self.s2[-1] if self.s2 else None\n",
        "\n",
        "  def empty(self):\n",
        "    return not self.s1 and not self.s2\n",
        "\n",
        "q = QueueUsingStack()\n",
        "\n",
        "q.enqueue(1)\n",
        "q.enqueue(2)\n",
        "q.enqueue(3)\n",
        "\n",
        "print(q.peek())\n",
        "print(q.dequeue())\n",
        "print(q.dequeue())\n",
        "print(q.empty())\n",
        "print(q.dequeue())\n",
        "print(q.empty())"
      ],
      "metadata": {
        "colab": {
          "base_uri": "https://localhost:8080/"
        },
        "id": "Oe-KRQVVLDWT",
        "outputId": "783321fb-4003-4883-f3d9-cf4807561498"
      },
      "execution_count": 7,
      "outputs": [
        {
          "output_type": "stream",
          "name": "stdout",
          "text": [
            "1\n",
            "1\n",
            "2\n",
            "False\n",
            "3\n",
            "True\n"
          ]
        }
      ]
    },
    {
      "cell_type": "code",
      "source": [
        "# 3. Design a Trie for autocomplete.\n",
        "\n",
        "class TreeNode:\n",
        "  def __init__(self):\n",
        "    self.children= {}\n",
        "    self.is_end =False\n",
        "class Tree:\n",
        "  def __init__(self):\n",
        "    self.root = TreeNode()\n",
        "\n",
        "  def insert(self, word):\n",
        "    node = self.root\n",
        "\n",
        "    for ch in word:\n",
        "      if ch not in node.children:\n",
        "        node.children[ch] = TreeNode()\n",
        "      node = node.children[ch]\n",
        "\n",
        "    node.is_end = True\n",
        "\n",
        "  def search_prefix(self, prefix):\n",
        "    node = self.root\n",
        "\n",
        "    for ch in prefix:\n",
        "      if ch not in node.children:\n",
        "        return None\n",
        "      node = node.children[ch]\n",
        "    return node\n",
        "\n",
        "  def autocomplete(self, prefix):\n",
        "\n",
        "    node = self.search_prefix(prefix)\n",
        "\n",
        "    result = []\n",
        "\n",
        "    def dfs(curr_node, path):\n",
        "      if curr_node.is_end:\n",
        "        result.append(\"\".join(path))\n",
        "      for ch, next_node in curr_node.children.items():\n",
        "        dfs(next_node, path+ [ch])\n",
        "    if node:\n",
        "      dfs(node, list(prefix))\n",
        "    return result\n",
        "\n",
        "trie = Tree()\n",
        "words = [\"apple\", \"app\", \"apricot\", \"banana\", \"bat\", \"batch\"]\n",
        "for w in words:\n",
        "    trie.insert(w)\n",
        "\n",
        "print(trie.autocomplete(\"ap\"))\n",
        "print(trie.autocomplete(\"ba\"))"
      ],
      "metadata": {
        "colab": {
          "base_uri": "https://localhost:8080/"
        },
        "id": "DViFgoxzNfGg",
        "outputId": "3afec760-52a6-47a7-d5a0-0c58d6dd4d45"
      },
      "execution_count": 8,
      "outputs": [
        {
          "output_type": "stream",
          "name": "stdout",
          "text": [
            "['app', 'apple', 'apricot']\n",
            "['banana', 'bat', 'batch']\n"
          ]
        }
      ]
    },
    {
      "cell_type": "code",
      "source": [
        "# 4. Implement a PriorityQueue without heapq.\n",
        "\n",
        "class PriorityQueue:\n",
        "  def __init__(self):\n",
        "    self.queue = []\n",
        "  def push(self, item, priority):\n",
        "    self.queue.append((priority, item))\n",
        "    self.queue.sort(reverse=True)\n",
        "\n",
        "  def pop(self):\n",
        "    if self.is_empty():\n",
        "      raise IndexError(\"pop from empty PriorityQueue\")\n",
        "    return self.queue.pop(0)[1]\n",
        "  def peek(self):\n",
        "    if self.is_empty():\n",
        "      raise IndexError(\"peek from empty PriorityQueue\")\n",
        "    return self.queue[0](1)\n",
        "  def is_empty(self):\n",
        "    return len(self.queue)==0\n",
        "\n",
        "pq = PriorityQueue()\n",
        "pq.push(\"task1\", 2)\n",
        "pq.push(\"task2\", 5)\n",
        "pq.push(\"task3\", 1)\n",
        "\n",
        "print(pq.pop())\n",
        "print(pq.pop())\n",
        "print(pq.pop())\n"
      ],
      "metadata": {
        "colab": {
          "base_uri": "https://localhost:8080/"
        },
        "id": "fXaLiDoyPXUu",
        "outputId": "e8510c48-d05a-48c0-be96-3d8fb7b8bd8a"
      },
      "execution_count": 9,
      "outputs": [
        {
          "output_type": "stream",
          "name": "stdout",
          "text": [
            "task2\n",
            "task1\n",
            "task3\n"
          ]
        }
      ]
    },
    {
      "cell_type": "code",
      "source": [
        "# Detect a cycle in a directed graph using DFS.\n",
        "\n",
        "from collections import defaultdict\n",
        "\n",
        "class Graph:\n",
        "    def __init__(self):\n",
        "        self.graph = defaultdict(list)\n",
        "\n",
        "    def add_edge(self, u, v):\n",
        "        self.graph[u].append(v)\n",
        "\n",
        "    def has_cycle(self):\n",
        "        visited = set()\n",
        "        rec_stack = set()\n",
        "\n",
        "        def dfs(node):\n",
        "            if node not in visited:\n",
        "                visited.add(node)\n",
        "                rec_stack.add(node)\n",
        "\n",
        "                for neighbor in self.graph[node]:\n",
        "                    if neighbor not in visited and dfs(neighbor):\n",
        "                        return True\n",
        "                    elif neighbor in rec_stack:\n",
        "                        return True\n",
        "\n",
        "                rec_stack.remove(node)\n",
        "            return False\n",
        "\n",
        "\n",
        "        for node in list(self.graph):\n",
        "            if dfs(node):\n",
        "                return True\n",
        "        return False\n",
        "\n",
        "g = Graph()\n",
        "g.add_edge(0, 1)\n",
        "g.add_edge(1, 2)\n",
        "g.add_edge(2, 0)\n",
        "\n",
        "print(g.has_cycle())\n",
        "\n",
        "g2 = Graph()\n",
        "g2.add_edge(0, 1)\n",
        "g2.add_edge(1, 2)\n",
        "print(g2.has_cycle())\n",
        "\n"
      ],
      "metadata": {
        "colab": {
          "base_uri": "https://localhost:8080/"
        },
        "id": "At299EbIYdb-",
        "outputId": "541edf03-620a-4793-90ef-8d3a8f95583b"
      },
      "execution_count": 10,
      "outputs": [
        {
          "output_type": "stream",
          "name": "stdout",
          "text": [
            "True\n",
            "False\n"
          ]
        }
      ]
    },
    {
      "cell_type": "code",
      "source": [
        "# 1. Read a large log file line by line and count keyword frequency.\n",
        "\n",
        "\n",
        "from collections import Counter\n",
        "\n",
        "def count_keywords_in_log(file_path, keywords):\n",
        "    keywords = set(k.lower() for k in keywords)\n",
        "    counter = Counter()\n",
        "\n",
        "    with open(file_path, \"r\", encoding=\"utf-8\") as f:\n",
        "        for line in f:\n",
        "            words = line.lower().split()\n",
        "            for word in words:\n",
        "                if word in keywords:\n",
        "                    counter[word] += 1\n",
        "\n",
        "    return counter\n",
        "\n",
        "keywords = [\"error\", \"warning\", \"failed\"]\n",
        "result = count_keywords_in_log(\"application.log\", keywords)\n",
        "\n",
        "for word, freq in result.items():\n",
        "    print(f\"{word}: {freq}\")\n"
      ],
      "metadata": {
        "id": "bDbgQbBKYuy4"
      },
      "execution_count": null,
      "outputs": []
    },
    {
      "cell_type": "code",
      "source": [
        "# 2. Parse a nested JSON and extract specific fields.\n",
        "\n",
        "\n",
        "data = {\n",
        "    \"user\": {\n",
        "        \"id\": 123,\n",
        "        \"name\": \"Alice\",\n",
        "        \"contacts\": {\n",
        "            \"email\": \"alice@example.com\",\n",
        "            \"phone\": \"123-456-7890\"\n",
        "        }\n",
        "    },\n",
        "    \"posts\": [\n",
        "        {\"id\": 1, \"title\": \"Hello World\", \"likes\": 5},\n",
        "        {\"id\": 2, \"title\": \"Deep Learning\", \"likes\": 10}\n",
        "    ]\n",
        "}\n",
        "\n",
        "\n",
        "def extract_fields(data):\n",
        "    user_name = data.get(\"user\", {}).get(\"name\")\n",
        "    user_email = data.get(\"user\", {}).get(\"contacts\", {}).get(\"email\")\n",
        "\n",
        "    post_titles = [post.get(\"title\") for post in data.get(\"posts\", [])]\n",
        "\n",
        "    return {\n",
        "        \"name\": user_name,\n",
        "        \"email\": user_email,\n",
        "        \"titles\": post_titles\n",
        "    }\n",
        "\n",
        "result = extract_fields(data)\n",
        "print(result)\n"
      ],
      "metadata": {
        "colab": {
          "base_uri": "https://localhost:8080/"
        },
        "id": "W8MwKEWEY0g_",
        "outputId": "7f3962e4-03ba-4cd3-a460-a7aff59f45f3"
      },
      "execution_count": 12,
      "outputs": [
        {
          "output_type": "stream",
          "name": "stdout",
          "text": [
            "{'name': 'Alice', 'email': 'alice@example.com', 'titles': ['Hello World', 'Deep Learning']}\n"
          ]
        }
      ]
    },
    {
      "cell_type": "code",
      "source": [
        "# 3. Convert CSV to JSON format.\n",
        "\n",
        "import csv\n",
        "import json\n",
        "\n",
        "def csv_to_json(csv_file, json_file):\n",
        "    with open(csv_file, mode=\"r\", newline=\"\", encoding=\"utf-8\") as f:\n",
        "        reader = csv.DictReader(f)\n",
        "        data = list(reader)\n",
        "\n",
        "    with open(json_file, mode=\"w\", encoding=\"utf-8\") as f:\n",
        "        json.dump(data, f, indent=2)\n",
        "\n",
        "csv_to_json(\"data.csv\", \"data.json\")\n"
      ],
      "metadata": {
        "id": "Oxm8M_qaZOJZ"
      },
      "execution_count": null,
      "outputs": []
    },
    {
      "cell_type": "code",
      "source": [
        "# 4. Implement a mini-logger that writes to both file and console.\n",
        "\n",
        "import datetime\n",
        "\n",
        "class MiniLogger:\n",
        "    def __init__(self, filename):\n",
        "        self.filename = filename\n",
        "\n",
        "    def log(self, message):\n",
        "        timestamp = datetime.datetime.now().strftime(\"%Y-%m-%d %H:%M:%S\")\n",
        "        log_entry = f\"[{timestamp}] {message}\"\n",
        "\n",
        "        print(log_entry)\n",
        "\n",
        "        with open(self.filename, \"a\", encoding=\"utf-8\") as f:\n",
        "            f.write(log_entry + \"\\n\")\n",
        "\n",
        "logger = MiniLogger(\"app.log\")\n",
        "logger.log(\"Application started\")\n",
        "logger.log(\"Processing data...\")\n",
        "logger.log(\"Application finished\")\n"
      ],
      "metadata": {
        "id": "PsVgzODEZZCS"
      },
      "execution_count": null,
      "outputs": []
    },
    {
      "cell_type": "code",
      "source": [
        "# 5. Monitor file changes and alert if a keyword appears (tail-like behavior).\n",
        "\n",
        "import time\n",
        "import os\n",
        "\n",
        "def monitor_file(filename, keyword):\n",
        "    with open(filename, \"r\", encoding=\"utf-8\") as f:\n",
        "        f.seek(0, os.SEEK_END)\n",
        "\n",
        "        while True:\n",
        "            line = f.readline()\n",
        "            if not line:\n",
        "                time.sleep(0.5)\n",
        "                continue\n",
        "\n",
        "            if keyword.lower() in line.lower():\n",
        "                print(f\"[ALERT] Found keyword '{keyword}': {line.strip()}\")\n",
        "\n",
        "# First, run this function in one terminal,\n",
        "# then append lines to `log.txt` in another terminal to see alerts.\n",
        "monitor_file(\"log.txt\", \"error\")\n"
      ],
      "metadata": {
        "id": "2SMfB1HqZfJX"
      },
      "execution_count": null,
      "outputs": []
    },
    {
      "cell_type": "code",
      "source": [
        "# 1. Use map, filter, and reduce to process numerical data.\n",
        "\n",
        "from functools import reduce\n",
        "\n",
        "nums = [1, 2, 3, 4, 5, 6]\n",
        "\n",
        "squares = list(map(lambda x: x**2, nums))\n",
        "print(\"Squares:\", squares)\n",
        "\n",
        "evens = list(filter(lambda x: x % 2 == 0, nums))\n",
        "print(\"Evens:\", evens)\n",
        "\n",
        "sum_all = reduce(lambda acc, x: acc + x, nums, 0)\n",
        "print(\"Sum:\", sum_all)\n"
      ],
      "metadata": {
        "colab": {
          "base_uri": "https://localhost:8080/"
        },
        "id": "NLgnWr-GZs_o",
        "outputId": "aced95b6-b74f-402d-efec-263404e653da"
      },
      "execution_count": 17,
      "outputs": [
        {
          "output_type": "stream",
          "name": "stdout",
          "text": [
            "Squares: [1, 4, 9, 16, 25, 36]\n",
            "Evens: [2, 4, 6]\n",
            "Sum: 21\n"
          ]
        }
      ]
    },
    {
      "cell_type": "code",
      "source": [
        "# 2. Chain multiple list transformations using list comprehensions.\n",
        "\n",
        "nums = [1, 2, 3, 4, 5, 6]\n",
        "\n",
        "result = [x + 1 for x in [n**2 for n in nums] if x > 10]\n",
        "\n",
        "print(result)\n"
      ],
      "metadata": {
        "colab": {
          "base_uri": "https://localhost:8080/"
        },
        "id": "k26AWnZmZ3Nk",
        "outputId": "cf42b271-313c-4f72-e203-d1fd760fe11b"
      },
      "execution_count": 16,
      "outputs": [
        {
          "output_type": "stream",
          "name": "stdout",
          "text": [
            "[17, 26, 37]\n"
          ]
        }
      ]
    },
    {
      "cell_type": "code",
      "source": [
        "# 3. Use lambda to sort a list of tuples by second element.\n",
        "\n",
        "\n",
        "data = [(1, 3), (4, 1), (2, 5), (3, 2)]\n",
        "\n",
        "sorted_data = sorted(data, key=lambda x: x[1])\n",
        "\n",
        "print(sorted_data)\n"
      ],
      "metadata": {
        "colab": {
          "base_uri": "https://localhost:8080/"
        },
        "id": "Gh9lyTN_aBXA",
        "outputId": "4abf7762-e878-4099-fcce-9138bc88c2bc"
      },
      "execution_count": 15,
      "outputs": [
        {
          "output_type": "stream",
          "name": "stdout",
          "text": [
            "[(4, 1), (3, 2), (1, 3), (2, 5)]\n"
          ]
        }
      ]
    },
    {
      "cell_type": "code",
      "source": [
        "# 4. Implement your own version of zip.\n",
        "\n",
        "def my_zip(*iterables):\n",
        "    min_length = min(len(it) for it in iterables)\n",
        "\n",
        "    for i in range(min_length):\n",
        "        yield tuple(it[i] for it in iterables)\n",
        "\n",
        "\n",
        "a = [1, 2, 3]\n",
        "b = ['a', 'b', 'c']\n",
        "c = [True, False, True]\n",
        "\n",
        "for item in my_zip(a, b, c):\n",
        "    print(item)"
      ],
      "metadata": {
        "colab": {
          "base_uri": "https://localhost:8080/"
        },
        "id": "KxqMl3GjaLML",
        "outputId": "f92f4e99-1d4e-457f-ef90-2e8ba07d247a"
      },
      "execution_count": 14,
      "outputs": [
        {
          "output_type": "stream",
          "name": "stdout",
          "text": [
            "(1, 'a', True)\n",
            "(2, 'b', False)\n",
            "(3, 'c', True)\n"
          ]
        }
      ]
    },
    {
      "cell_type": "code",
      "source": [
        "# 5. Flatten a nested list using recursion and itertools.\n",
        "\n",
        "def flatten_recursive(nested_list):\n",
        "    result = []\n",
        "    for item in nested_list:\n",
        "        if isinstance(item, list):\n",
        "            result.extend(flatten_recursive(item))  # Recursive call\n",
        "        else:\n",
        "            result.append(item)\n",
        "    return result\n",
        "\n",
        "\n",
        "nested = [1, [2, [3, 4], 5], 6, [7, [8]]]\n",
        "print(flatten_recursive(nested))\n"
      ],
      "metadata": {
        "colab": {
          "base_uri": "https://localhost:8080/"
        },
        "id": "yb0JTIguaUoV",
        "outputId": "c0b6473b-5e15-4029-a882-074888a32aea"
      },
      "execution_count": 13,
      "outputs": [
        {
          "output_type": "stream",
          "name": "stdout",
          "text": [
            "[1, 2, 3, 4, 5, 6, 7, 8]\n"
          ]
        }
      ]
    },
    {
      "cell_type": "code",
      "source": [],
      "metadata": {
        "id": "H-AOIx2CaYqb"
      },
      "execution_count": null,
      "outputs": []
    }
  ],
  "metadata": {
    "colab": {
      "provenance": []
    },
    "kernelspec": {
      "display_name": "Python 3",
      "name": "python3"
    },
    "language_info": {
      "name": "python"
    }
  },
  "nbformat": 4,
  "nbformat_minor": 0
}