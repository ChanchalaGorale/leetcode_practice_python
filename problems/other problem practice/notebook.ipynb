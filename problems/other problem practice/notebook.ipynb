{
  "cells": [
    {
      "cell_type": "code",
      "source": [
        "nums = [1, 2, 3, 4, 5, 6]"
      ],
      "metadata": {
        "id": "m98QpUiqF-Do"
      },
      "execution_count": null,
      "outputs": []
    },
    {
      "cell_type": "code",
      "source": [
        "def sumElements(nums):\n",
        "  print(nums)\n",
        "  total = 0\n",
        "\n",
        "  for n in nums:\n",
        "    total = total + n\n",
        "  return total\n",
        "  #return sum(nums)\n",
        "\n",
        "sumElements(nums)"
      ],
      "metadata": {
        "colab": {
          "base_uri": "https://localhost:8080/"
        },
        "id": "v822UKBAEHZj",
        "outputId": "adec2416-62a1-45f7-ae90-03774a06524c"
      },
      "execution_count": null,
      "outputs": [
        {
          "output_type": "stream",
          "name": "stdout",
          "text": [
            "[1, 2, 3, 4, 5, 6]\n"
          ]
        },
        {
          "output_type": "execute_result",
          "data": {
            "text/plain": [
              "21"
            ]
          },
          "metadata": {},
          "execution_count": 32
        }
      ]
    },
    {
      "cell_type": "code",
      "source": [
        "def largestElement(nums):\n",
        "  if len(nums) ==0:\n",
        "    return None\n",
        "\n",
        "  largest = nums[0]\n",
        "\n",
        "  for i in range(1, len(nums)):\n",
        "    # largest = max(largest, nums[i])\n",
        "    if largest < nums[i]:\n",
        "      largest = nums[i]\n",
        "\n",
        "  return largest\n",
        "  # return max(nums)\n",
        "\n",
        "largestElement(nums)"
      ],
      "metadata": {
        "colab": {
          "base_uri": "https://localhost:8080/"
        },
        "id": "GdsAOGueEWzn",
        "outputId": "24a3880f-71f7-4c54-8482-6cae8ea8d4ec"
      },
      "execution_count": null,
      "outputs": [
        {
          "output_type": "execute_result",
          "data": {
            "text/plain": [
              "6"
            ]
          },
          "metadata": {},
          "execution_count": 35
        }
      ]
    },
    {
      "cell_type": "code",
      "source": [
        "def remove_duplicate(nums):\n",
        "  #return list(set(nums))\n",
        "  #return list(dict.fromkeys(nums))\n",
        "\n",
        "  seen = set()\n",
        "  result = []\n",
        "  for n in nums:\n",
        "    if n not in seen:\n",
        "      seen.add(n)\n",
        "      result.append(n)\n",
        "  return result\n",
        "\n",
        "remove_duplicate([*nums, 1,2,3,4])"
      ],
      "metadata": {
        "colab": {
          "base_uri": "https://localhost:8080/"
        },
        "id": "XuL42I2NGO76",
        "outputId": "258cd47c-bbca-43ca-9024-9a8b5adf6634"
      },
      "execution_count": null,
      "outputs": [
        {
          "output_type": "execute_result",
          "data": {
            "text/plain": [
              "[1, 2, 3, 4, 5, 6]"
            ]
          },
          "metadata": {},
          "execution_count": 43
        }
      ]
    },
    {
      "cell_type": "code",
      "source": [
        "def check_unique_val(nums):\n",
        "  seen = set()\n",
        "\n",
        "  for n in nums:\n",
        "    if n in seen:\n",
        "      return False\n",
        "\n",
        "    seen.add(n)\n",
        "\n",
        "  return True\n",
        "\n",
        "  #return len(nums) == len(set(nums))\n",
        "\n",
        "print(check_unique_val([*nums, 1,2,3,4]))\n",
        "print(check_unique_val(nums))"
      ],
      "metadata": {
        "colab": {
          "base_uri": "https://localhost:8080/"
        },
        "id": "dLGBEDi6HTKS",
        "outputId": "68526a5d-1651-48e1-a5d9-1a19f5bb05d8"
      },
      "execution_count": null,
      "outputs": [
        {
          "output_type": "stream",
          "name": "stdout",
          "text": [
            "False\n",
            "True\n"
          ]
        }
      ]
    },
    {
      "cell_type": "code",
      "source": [
        "def rev_list(nums):\n",
        "  result = []\n",
        "  for i in range(len(nums)-1, -1, -1):\n",
        "    result.append(nums[i])\n",
        "\n",
        "  return result\n",
        "\n",
        "  # nums.reverse()\n",
        "  # return nums\n",
        "\n",
        "  #return list(reversed(nums))\n",
        "\n",
        "  #return nums[::-1]\n",
        "\n",
        "rev_list(nums)"
      ],
      "metadata": {
        "colab": {
          "base_uri": "https://localhost:8080/"
        },
        "id": "oI_OsshwIcYP",
        "outputId": "33675475-0317-4bd6-c2ea-08811f289222"
      },
      "execution_count": null,
      "outputs": [
        {
          "output_type": "execute_result",
          "data": {
            "text/plain": [
              "[6, 5, 4, 3, 2, 1]"
            ]
          },
          "metadata": {},
          "execution_count": 61
        }
      ]
    },
    {
      "cell_type": "code",
      "source": [
        "def odd_even(nums):\n",
        "  # odd_count=even_count=0\n",
        "\n",
        "  # for n in nums:\n",
        "  #   if n%2==0:\n",
        "  #     even_count+=1\n",
        "  #   else:\n",
        "  #     odd_count+=1\n",
        "  # return odd_count, even_count\n",
        "\n",
        "  even = sum(1 for n in nums if n%2==0)\n",
        "  odd = len(nums) - even\n",
        "\n",
        "  return odd, even\n",
        "\n",
        "odd_even(nums)"
      ],
      "metadata": {
        "colab": {
          "base_uri": "https://localhost:8080/"
        },
        "id": "Ag6h5IulKqoQ",
        "outputId": "05763590-9fbd-4355-c0a6-137c2089b816"
      },
      "execution_count": null,
      "outputs": [
        {
          "output_type": "execute_result",
          "data": {
            "text/plain": [
              "(3, 3)"
            ]
          },
          "metadata": {},
          "execution_count": 72
        }
      ]
    },
    {
      "cell_type": "code",
      "source": [
        "def max_diff_cons(nums):\n",
        "  max_diff = 0\n",
        "\n",
        "  for i in range(1,len(nums)):\n",
        "    max_diff =max(max_diff, abs(nums[i-1]- nums[i]))\n",
        "  return max_diff\n",
        "\n",
        "max_diff_cons([*nums, 15])"
      ],
      "metadata": {
        "colab": {
          "base_uri": "https://localhost:8080/"
        },
        "id": "fOpFbp-ILGSE",
        "outputId": "f1376754-29b1-448e-fb92-70e64d69a1ba"
      },
      "execution_count": null,
      "outputs": [
        {
          "output_type": "execute_result",
          "data": {
            "text/plain": [
              "9"
            ]
          },
          "metadata": {},
          "execution_count": 74
        }
      ]
    },
    {
      "cell_type": "code",
      "source": [
        "def merge_list(nums1, nums2):\n",
        "  merged = []\n",
        "  i=j=0\n",
        "\n",
        "  while i < len(nums1) and j < len(nums2):\n",
        "    if nums1[i] < nums2[j]:\n",
        "        merged.append(nums1[i])\n",
        "        i+=1\n",
        "    else:\n",
        "        merged.append(nums2[j])\n",
        "        j+=1\n",
        "\n",
        "  if i < len(nums1):\n",
        "    merged.extend(nums1[i:])\n",
        "\n",
        "  if j < len(nums2):\n",
        "    merged.extend(nums2[j:])\n",
        "\n",
        "  return merged\n",
        "\n",
        "\n",
        "  # merged = []\n",
        "  # i=j=0\n",
        "  # while i < len(nums1) or j < len(nums2):\n",
        "  #   if i < len(nums1) and j < len(nums2):\n",
        "  #     if nums1[i] < nums2[j]:\n",
        "  #       merged.append(nums1[i])\n",
        "  #       i+=1\n",
        "  #     else:\n",
        "  #       merged.append(nums2[j])\n",
        "  #       j+=1\n",
        "  #   elif i < len(nums1):\n",
        "  #     merged.append(nums1[i])\n",
        "  #     i+=1\n",
        "  #   elif j < len(nums2):\n",
        "  #     merged.append(nums2[j])\n",
        "  #     j+=1\n",
        "\n",
        "  # return merged\n",
        "\n",
        "  #return sorted(nums1 + nums2)\n",
        "\n",
        "print([1, 1, 2, 2, 3, 3, 4, 4, 5, 5, 6, 6, 8, 9, 9, 10, 11])\n",
        "merge_list([*nums, 8, 9], [*nums, 9, 10, 11])"
      ],
      "metadata": {
        "colab": {
          "base_uri": "https://localhost:8080/"
        },
        "id": "syVszcUyLyRr",
        "outputId": "699d33bc-f8a4-4e61-ffeb-9acc6985f657"
      },
      "execution_count": null,
      "outputs": [
        {
          "output_type": "stream",
          "name": "stdout",
          "text": [
            "[1, 1, 2, 2, 3, 3, 4, 4, 5, 5, 6, 6, 8, 9, 9, 10, 11]\n"
          ]
        },
        {
          "output_type": "execute_result",
          "data": {
            "text/plain": [
              "[1, 1, 2, 2, 3, 3, 4, 4, 5, 5, 6, 6, 8, 9, 9, 10, 11]"
            ]
          },
          "metadata": {},
          "execution_count": 80
        }
      ]
    },
    {
      "cell_type": "code",
      "source": [
        "from collections import deque\n",
        "\n",
        "def rorate_list(lst, k):\n",
        "  n = len(lst)\n",
        "  if n==0:\n",
        "    return lst\n",
        "\n",
        "  k%=n\n",
        "\n",
        "  def start_reverse(start, end):\n",
        "    while start< end:\n",
        "      lst[start], lst[end] = lst[end], lst[start]\n",
        "      start+=1\n",
        "      end-=1\n",
        "\n",
        "\n",
        "  start_reverse(0, n-1) # reverse the whole list\n",
        "  start_reverse(0, k-1) # reverse the first k elements\n",
        "  start_reverse(k, n-1) # reverse the rest\n",
        "\n",
        "  return lst\n",
        "\n",
        "  # dq = deque(lst)\n",
        "  # dq.rotate(k)\n",
        "  # return list(dq)\n",
        "\n",
        "  # for i in range(k):\n",
        "  #   lst = [lst.pop(), *lst]\n",
        "  # return lst\n",
        "\n",
        "  #return lst[-k:]+ lst[:-k]\n",
        "\n",
        "\n",
        "k=3\n",
        "rorate_list(nums, k)"
      ],
      "metadata": {
        "colab": {
          "base_uri": "https://localhost:8080/"
        },
        "id": "Tvc-5-EAN7Gi",
        "outputId": "3dbb7347-bd48-44ce-be09-e715f5cca65e"
      },
      "execution_count": null,
      "outputs": [
        {
          "output_type": "execute_result",
          "data": {
            "text/plain": [
              "[4, 5, 6, 1, 2, 3]"
            ]
          },
          "metadata": {},
          "execution_count": 90
        }
      ]
    },
    {
      "cell_type": "code",
      "source": [
        "def list_to_dict(keys, values):\n",
        "  dictionary = {}\n",
        "\n",
        "  for i in range(min(len(keys), len(values))):\n",
        "    dictionary.update({\n",
        "        keys[i] : values[i]\n",
        "    })\n",
        "\n",
        "  return dictionary\n",
        "\n",
        "  #return dict(zip(keys, values))\n",
        "\n",
        "list_to_dict([\"one\", \"two\"], [1,2])\n"
      ],
      "metadata": {
        "colab": {
          "base_uri": "https://localhost:8080/"
        },
        "id": "RCGZkgKINzM0",
        "outputId": "e73fd723-5035-4ca5-9244-9061913711a3"
      },
      "execution_count": null,
      "outputs": [
        {
          "output_type": "execute_result",
          "data": {
            "text/plain": [
              "{'one': 1, 'two': 2}"
            ]
          },
          "metadata": {},
          "execution_count": 93
        }
      ]
    },
    {
      "cell_type": "code",
      "source": [
        "def merge_dict(dict1, dict2, dict3):\n",
        "  merge  = dict1.copy()\n",
        "  merge.update(dict2)\n",
        "  merge.update(dict3)\n",
        "\n",
        "  return merge\n",
        "\n",
        "  #return {**dict1, **dict2, **dict3}\n",
        "\n",
        "merge_dict({\"a\": \"A\"}, {\"b\": \"B\"}, {\"c\": \"C\"})"
      ],
      "metadata": {
        "colab": {
          "base_uri": "https://localhost:8080/"
        },
        "id": "VWbdwoe1V2yk",
        "outputId": "f162bb4d-856d-487d-cf1c-5cb6577c2cea"
      },
      "execution_count": null,
      "outputs": [
        {
          "output_type": "execute_result",
          "data": {
            "text/plain": [
              "{'a': 'A', 'b': 'B', 'c': 'C'}"
            ]
          },
          "metadata": {},
          "execution_count": 96
        }
      ]
    },
    {
      "cell_type": "code",
      "source": [
        "from collections import Counter\n",
        "\n",
        "def word_freq(s):\n",
        "  word_counts = {}\n",
        "  tokens = s.lower().split(\" \")\n",
        "\n",
        "  for w in tokens:\n",
        "    if w in word_counts:\n",
        "      word_counts[w] +=1\n",
        "    else:\n",
        "      word_counts[w] =1\n",
        "\n",
        "  return word_counts\n",
        "\n",
        "  # tokens = s.lower().split(\" \")\n",
        "  # return dict(Counter(tokens))\n",
        "\n",
        "word_freq(\"Hello I am here to play and Hello I am here to read\")"
      ],
      "metadata": {
        "colab": {
          "base_uri": "https://localhost:8080/"
        },
        "id": "PCVHfpdvXg1Z",
        "outputId": "5ad0968f-9bff-48c6-8715-bfa79cd49b8e"
      },
      "execution_count": null,
      "outputs": [
        {
          "output_type": "execute_result",
          "data": {
            "text/plain": [
              "{'hello': 2,\n",
              " 'i': 2,\n",
              " 'am': 2,\n",
              " 'here': 2,\n",
              " 'to': 2,\n",
              " 'play': 1,\n",
              " 'and': 1,\n",
              " 'read': 1}"
            ]
          },
          "metadata": {},
          "execution_count": 102
        }
      ]
    },
    {
      "cell_type": "code",
      "source": [
        "def is_palindromic_tuple(tup):\n",
        "  if len(tup) ==1:\n",
        "    return True\n",
        "\n",
        "  left=0\n",
        "  right= len(tup)-1\n",
        "\n",
        "  while left <right:\n",
        "    if tup[left] != tup[right]:\n",
        "      return False\n",
        "\n",
        "    left+=1\n",
        "    right-=1\n",
        "\n",
        "  return True\n",
        "\n",
        "  #return tup == tup[::-1]\n",
        "\n",
        "print(is_palindromic_tuple((\"a\", \"b\")))\n",
        "print(is_palindromic_tuple((\"a\", \"b\", \"b\", \"a\")))\n",
        "print(is_palindromic_tuple((\"a\")))\n",
        "print(is_palindromic_tuple((\"a\", \"b\", \"a\")))"
      ],
      "metadata": {
        "colab": {
          "base_uri": "https://localhost:8080/"
        },
        "id": "I_ujeb-FYp3_",
        "outputId": "e6aa6ed5-31d9-46b4-9a72-8aa9365d8cf6"
      },
      "execution_count": null,
      "outputs": [
        {
          "output_type": "stream",
          "name": "stdout",
          "text": [
            "False\n",
            "True\n",
            "True\n",
            "True\n"
          ]
        }
      ]
    },
    {
      "cell_type": "code",
      "source": [
        "def merge_dicts_with_overlapping_keys(dicts):\n",
        "  result = {}\n",
        "\n",
        "  for d in dicts:\n",
        "    for k, v in d.items():\n",
        "      if k in result:\n",
        "        result[k] = result[k] + v\n",
        "      else:\n",
        "        result[k] =v\n",
        "\n",
        "  return result\n",
        "\n",
        "\n",
        "merge_dicts_with_overlapping_keys([{'a': 1, 'b': 2}, {'b': 3, 'c': 4}, {'c': 5, 'd': 6}])"
      ],
      "metadata": {
        "colab": {
          "base_uri": "https://localhost:8080/"
        },
        "id": "06Hm53d2cjWH",
        "outputId": "71de3e02-00eb-4cce-c3d8-8ee50de2377c"
      },
      "execution_count": null,
      "outputs": [
        {
          "output_type": "execute_result",
          "data": {
            "text/plain": [
              "{'a': 1, 'b': 5, 'c': 9, 'd': 6}"
            ]
          },
          "metadata": {},
          "execution_count": 119
        }
      ]
    },
    {
      "cell_type": "code",
      "source": [
        "def is_subset(lst1, lst2):\n",
        "  # for n in lst1:\n",
        "  #   if n not in lst2:\n",
        "  #     return False\n",
        "  # return True\n",
        "\n",
        "  for n in lst1:\n",
        "    found=False\n",
        "    for m in lst2:\n",
        "      if m==n:\n",
        "        found=True\n",
        "        break\n",
        "    if found==False:\n",
        "      return False\n",
        "  return True\n",
        "\n",
        "lst1 = [1, 2, 3]\n",
        "lst2 = [1, 2, 3, 4, 5]\n",
        "\n",
        "is_subset(lst1, lst2)"
      ],
      "metadata": {
        "colab": {
          "base_uri": "https://localhost:8080/"
        },
        "id": "pNy-WVZ9eH-L",
        "outputId": "30368442-725c-4f24-f373-9ea806cfe8fa"
      },
      "execution_count": null,
      "outputs": [
        {
          "output_type": "execute_result",
          "data": {
            "text/plain": [
              "True"
            ]
          },
          "metadata": {},
          "execution_count": 127
        }
      ]
    },
    {
      "cell_type": "code",
      "source": [],
      "metadata": {
        "id": "B7IKn4csef9l"
      },
      "execution_count": null,
      "outputs": []
    }
  ],
  "metadata": {
    "colab": {
      "provenance": [],
      "gpuType": "T4"
    },
    "kernelspec": {
      "display_name": "Python 3",
      "name": "python3"
    },
    "language_info": {
      "name": "python"
    },
    "accelerator": "GPU"
  },
  "nbformat": 4,
  "nbformat_minor": 0
}